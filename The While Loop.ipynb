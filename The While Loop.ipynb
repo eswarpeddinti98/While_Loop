{
 "cells": [
  {
   "cell_type": "code",
   "execution_count": 1,
   "id": "1945409a",
   "metadata": {},
   "outputs": [],
   "source": [
    "#While Loop"
   ]
  },
  {
   "cell_type": "code",
   "execution_count": null,
   "id": "96ee5a4c",
   "metadata": {},
   "outputs": [],
   "source": [
    "x = 25\n",
    "while x <30:\n",
    "    print(x)\n",
    "    x = x+1"
   ]
  },
  {
   "cell_type": "code",
   "execution_count": null,
   "id": "8b18cfea",
   "metadata": {},
   "outputs": [],
   "source": [
    "x = 25\n",
    "while x <30:\n",
    "    print(x)\n",
    "    x = x+1"
   ]
  },
  {
   "cell_type": "code",
   "execution_count": null,
   "id": "c8bcdc6a",
   "metadata": {},
   "outputs": [],
   "source": [
    "x = 25\n",
    "while x <30:\n",
    "    print(x)\n",
    "    x = x+1"
   ]
  },
  {
   "cell_type": "code",
   "execution_count": null,
   "id": "7bc6ee19",
   "metadata": {},
   "outputs": [],
   "source": []
  }
 ],
 "metadata": {
  "kernelspec": {
   "display_name": "Python 3 (ipykernel)",
   "language": "python",
   "name": "python3"
  },
  "language_info": {
   "codemirror_mode": {
    "name": "ipython",
    "version": 3
   },
   "file_extension": ".py",
   "mimetype": "text/x-python",
   "name": "python",
   "nbconvert_exporter": "python",
   "pygments_lexer": "ipython3",
   "version": "3.9.13"
  }
 },
 "nbformat": 4,
 "nbformat_minor": 5
}
